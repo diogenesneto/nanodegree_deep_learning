{
 "cells": [
  {
   "cell_type": "markdown",
   "metadata": {
    "collapsed": true,
    "deletable": true,
    "editable": true
   },
   "source": [
    "# Image Classification\n",
    "In this project, you'll classify images from the [CIFAR-10 dataset](https://www.cs.toronto.edu/~kriz/cifar.html).  The dataset consists of airplanes, dogs, cats, and other objects. You'll preprocess the images, then train a convolutional neural network on all the samples. The images need to be normalized and the labels need to be one-hot encoded.  You'll get to apply what you learned and build a convolutional, max pooling, dropout, and fully connected layers.  At the end, you'll get to see your neural network's predictions on the sample images.\n",
    "## Get the Data\n",
    "Run the following cell to download the [CIFAR-10 dataset for python](https://www.cs.toronto.edu/~kriz/cifar-10-python.tar.gz)."
   ]
  },
  {
   "cell_type": "code",
   "execution_count": 1,
   "metadata": {
    "collapsed": false,
    "deletable": true,
    "editable": true
   },
   "outputs": [
    {
     "name": "stderr",
     "output_type": "stream",
     "text": [
      "CIFAR-10 Dataset: 171MB [00:33, 5.14MB/s]                              \n"
     ]
    },
    {
     "name": "stdout",
     "output_type": "stream",
     "text": [
      "All files found!\n"
     ]
    }
   ],
   "source": [
    "\"\"\"\n",
    "DON'T MODIFY ANYTHING IN THIS CELL THAT IS BELOW THIS LINE\n",
    "\"\"\"\n",
    "from urllib.request import urlretrieve\n",
    "from os.path import isfile, isdir\n",
    "from tqdm import tqdm\n",
    "import problem_unittests as tests\n",
    "import tarfile\n",
    "\n",
    "cifar10_dataset_folder_path = 'cifar-10-batches-py'\n",
    "\n",
    "# Use Floyd's cifar-10 dataset if present\n",
    "floyd_cifar10_location = '/input/cifar-10/python.tar.gz'\n",
    "if isfile(floyd_cifar10_location):\n",
    "    tar_gz_path = floyd_cifar10_location\n",
    "else:\n",
    "    tar_gz_path = 'cifar-10-python.tar.gz'\n",
    "\n",
    "class DLProgress(tqdm):\n",
    "    last_block = 0\n",
    "\n",
    "    def hook(self, block_num=1, block_size=1, total_size=None):\n",
    "        self.total = total_size\n",
    "        self.update((block_num - self.last_block) * block_size)\n",
    "        self.last_block = block_num\n",
    "\n",
    "if not isfile(tar_gz_path):\n",
    "    with DLProgress(unit='B', unit_scale=True, miniters=1, desc='CIFAR-10 Dataset') as pbar:\n",
    "        urlretrieve(\n",
    "            'https://www.cs.toronto.edu/~kriz/cifar-10-python.tar.gz',\n",
    "            tar_gz_path,\n",
    "            pbar.hook)\n",
    "\n",
    "if not isdir(cifar10_dataset_folder_path):\n",
    "    with tarfile.open(tar_gz_path) as tar:\n",
    "        tar.extractall()\n",
    "        tar.close()\n",
    "\n",
    "\n",
    "tests.test_folder_path(cifar10_dataset_folder_path)"
   ]
  },
  {
   "cell_type": "markdown",
   "metadata": {
    "deletable": true,
    "editable": true
   },
   "source": [
    "## Explore the Data\n",
    "The dataset is broken into batches to prevent your machine from running out of memory.  The CIFAR-10 dataset consists of 5 batches, named `data_batch_1`, `data_batch_2`, etc.. Each batch contains the labels and images that are one of the following:\n",
    "* airplane\n",
    "* automobile\n",
    "* bird\n",
    "* cat\n",
    "* deer\n",
    "* dog\n",
    "* frog\n",
    "* horse\n",
    "* ship\n",
    "* truck\n",
    "\n",
    "Understanding a dataset is part of making predictions on the data.  Play around with the code cell below by changing the `batch_id` and `sample_id`. The `batch_id` is the id for a batch (1-5). The `sample_id` is the id for a image and label pair in the batch.\n",
    "\n",
    "Ask yourself \"What are all possible labels?\", \"What is the range of values for the image data?\", \"Are the labels in order or random?\".  Answers to questions like these will help you preprocess the data and end up with better predictions."
   ]
  },
  {
   "cell_type": "code",
   "execution_count": 2,
   "metadata": {
    "collapsed": false,
    "deletable": true,
    "editable": true
   },
   "outputs": [
    {
     "name": "stdout",
     "output_type": "stream",
     "text": [
      "\n",
      "Stats of batch 1:\n",
      "Samples: 10000\n",
      "Label Counts: {0: 1005, 1: 974, 2: 1032, 3: 1016, 4: 999, 5: 937, 6: 1030, 7: 1001, 8: 1025, 9: 981}\n",
      "First 20 Labels: [6, 9, 9, 4, 1, 1, 2, 7, 8, 3, 4, 7, 7, 2, 9, 9, 9, 3, 2, 6]\n",
      "\n",
      "Example of Image 5:\n",
      "Image - Min Value: 0 Max Value: 252\n",
      "Image - Shape: (32, 32, 3)\n",
      "Label - Label Id: 1 Name: automobile\n"
     ]
    },
    {
     "data": {
      "image/png": "[encoded data removed]",
      "text/plain": [
       "<matplotlib.figure.Figure at 0x7fdf4d72f668>"
      ]
     },
     "metadata": {
      "image/png": {
       "height": 250,
       "width": 253
      }
     },
     "output_type": "display_data"
    }
   ],
   "source": [
    "%matplotlib inline\n",
    "%config InlineBackend.figure_format = 'retina'\n",
    "\n",
    "import helper\n",
    "import numpy as np\n",
    "\n",
    "# Explore the dataset\n",
    "batch_id = 1\n",
    "sample_id = 5\n",
    "helper.display_stats(cifar10_dataset_folder_path, batch_id, sample_id)"
   ]
  },
  {
   "cell_type": "markdown",
   "metadata": {
    "deletable": true,
    "editable": true
   },
   "source": [
    "## Implement Preprocess Functions\n",
    "### Normalize\n",
    "In the cell below, implement the `normalize` function to take in image data, `x`, and return it as a normalized Numpy array. The values should be in the range of 0 to 1, inclusive.  The return object should be the same shape as `x`."
   ]
  },
  {
   "cell_type": "code",
   "execution_count": 3,
   "metadata": {
    "collapsed": false,
    "deletable": true,
    "editable": true
   },
   "outputs": [
    {
     "name": "stdout",
     "output_type": "stream",
     "text": [
      "Tests Passed\n"
     ]
    }
   ],
   "source": [
    "def normalize(x):\n",
    "    \"\"\"\n",
    "    Normalize a list of sample image data in the range of 0 to 1\n",
    "    : x: List of image data.  The image shape is (32, 32, 3)\n",
    "    : return: Numpy array of normalize data\n",
    "    \"\"\"\n",
    "    # TODO: Implement Function\n",
    "    min = np.min(x)\n",
    "    max = np.max(x)\n",
    "    \n",
    "    return (x-min)/(max-min)\n",
    "\n",
    "\n",
    "\"\"\"\n",
    "DON'T MODIFY ANYTHING IN THIS CELL THAT IS BELOW THIS LINE\n",
    "\"\"\"\n",
    "tests.test_normalize(normalize)"
   ]
  },
  {
   "cell_type": "markdown",
   "metadata": {
    "deletable": true,
    "editable": true
   },
   "source": [
    "### One-hot encode\n",
    "Just like the previous code cell, you'll be implementing a function for preprocessing.  This time, you'll implement the `one_hot_encode` function. The input, `x`, are a list of labels.  Implement the function to return the list of labels as One-Hot encoded Numpy array.  The possible values for labels are 0 to 9. The one-hot encoding function should return the same encoding for each value between each call to `one_hot_encode`.  Make sure to save the map of encodings outside the function.\n",
    "\n",
    "Hint: Don't reinvent the wheel."
   ]
  },
  {
   "cell_type": "code",
   "execution_count": 4,
   "metadata": {
    "collapsed": false,
    "deletable": true,
    "editable": true
   },
   "outputs": [
    {
     "name": "stdout",
     "output_type": "stream",
     "text": [
      "Tests Passed\n"
     ]
    }
   ],
   "source": [
    "def one_hot_encode(x):\n",
    "    \"\"\"\n",
    "    One hot encode a list of sample labels. Return a one-hot encoded vector for each label.\n",
    "    : x: List of sample Labels\n",
    "    : return: Numpy array of one-hot encoded labels\n",
    "    \"\"\"\n",
    "    # TODO: Implement Function\n",
    "    return np.eye(10)[x]\n",
    "\n",
    "\n",
    "\"\"\"\n",
    "DON'T MODIFY ANYTHING IN THIS CELL THAT IS BELOW THIS LINE\n",
    "\"\"\"\n",
    "tests.test_one_hot_encode(one_hot_encode)"
   ]
  },
  {
   "cell_type": "markdown",
   "metadata": {
    "deletable": true,
    "editable": true
   },
   "source": [
    "### Randomize Data\n",
    "As you saw from exploring the data above, the order of the samples are randomized.  It doesn't hurt to randomize it again, but you don't need to for this dataset."
   ]
  },
  {
   "cell_type": "markdown",
   "metadata": {
    "deletable": true,
    "editable": true
   },
   "source": [
    "## Preprocess all the data and save it\n",
    "Running the code cell below will preprocess all the CIFAR-10 data and save it to file. The code below also uses 10% of the training data for validation."
   ]
  },
  {
   "cell_type": "code",
   "execution_count": 5,
   "metadata": {
    "collapsed": false,
    "deletable": true,
    "editable": true
   },
   "outputs": [],
   "source": [
    "\"\"\"\n",
    "DON'T MODIFY ANYTHING IN THIS CELL\n",
    "\"\"\"\n",
    "# Preprocess Training, Validation, and Testing Data\n",
    "helper.preprocess_and_save_data(cifar10_dataset_folder_path, normalize, one_hot_encode)"
   ]
  },
  {
   "cell_type": "markdown",
   "metadata": {
    "deletable": true,
    "editable": true
   },
   "source": [
    "# Check Point\n",
    "This is your first checkpoint.  If you ever decide to come back to this notebook or have to restart the notebook, you can start from here.  The preprocessed data has been saved to disk."
   ]
  },
  {
   "cell_type": "code",
   "execution_count": 6,
   "metadata": {
    "collapsed": true,
    "deletable": true,
    "editable": true
   },
   "outputs": [],
   "source": [
    "\"\"\"\n",
    "DON'T MODIFY ANYTHING IN THIS CELL\n",
    "\"\"\"\n",
    "import pickle\n",
    "import problem_unittests as tests\n",
    "import helper\n",
    "\n",
    "# Load the Preprocessed Validation data\n",
    "valid_features, valid_labels = pickle.load(open('preprocess_validation.p', mode='rb'))"
   ]
  },
  {
   "cell_type": "markdown",
   "metadata": {
    "deletable": true,
    "editable": true
   },
   "source": [
    "## Build the network\n",
    "For the neural network, you'll build each layer into a function.  Most of the code you've seen has been outside of functions. To test your code more thoroughly, we require that you put each layer in a function.  This allows us to give you better feedback and test for simple mistakes using our unittests before you submit your project.\n",
    "\n",
    ">**Note:** If you're finding it hard to dedicate enough time for this course each week, we've provided a small shortcut to this part of the project. In the next couple of problems, you'll have the option to use classes from the [TensorFlow Layers](https://www.tensorflow.org/api_docs/python/tf/layers) or [TensorFlow Layers (contrib)](https://www.tensorflow.org/api_guides/python/contrib.layers) packages to build each layer, except the layers you build in the \"Convolutional and Max Pooling Layer\" section.  TF Layers is similar to Keras's and TFLearn's abstraction to layers, so it's easy to pickup.\n",
    "\n",
    ">However, if you would like to get the most out of this course, try to solve all the problems _without_ using anything from the TF Layers packages. You **can** still use classes from other packages that happen to have the same name as ones you find in TF Layers! For example, instead of using the TF Layers version of the `conv2d` class, [tf.layers.conv2d](https://www.tensorflow.org/api_docs/python/tf/layers/conv2d), you would want to use the TF Neural Network version of `conv2d`, [tf.nn.conv2d](https://www.tensorflow.org/api_docs/python/tf/nn/conv2d). \n",
    "\n",
    "Let's begin!\n",
    "\n",
    "### Input\n",
    "The neural network needs to read the image data, one-hot encoded labels, and dropout keep probability. Implement the following functions\n",
    "* Implement `neural_net_image_input`\n",
    " * Return a [TF Placeholder](https://www.tensorflow.org/api_docs/python/tf/placeholder)\n",
    " * Set the shape using `image_shape` with batch size set to `None`.\n",
    " * Name the TensorFlow placeholder \"x\" using the TensorFlow `name` parameter in the [TF Placeholder](https://www.tensorflow.org/api_docs/python/tf/placeholder).\n",
    "* Implement `neural_net_label_input`\n",
    " * Return a [TF Placeholder](https://www.tensorflow.org/api_docs/python/tf/placeholder)\n",
    " * Set the shape using `n_classes` with batch size set to `None`.\n",
    " * Name the TensorFlow placeholder \"y\" using the TensorFlow `name` parameter in the [TF Placeholder](https://www.tensorflow.org/api_docs/python/tf/placeholder).\n",
    "* Implement `neural_net_keep_prob_input`\n",
    " * Return a [TF Placeholder](https://www.tensorflow.org/api_docs/python/tf/placeholder) for dropout keep probability.\n",
    " * Name the TensorFlow placeholder \"keep_prob\" using the TensorFlow `name` parameter in the [TF Placeholder](https://www.tensorflow.org/api_docs/python/tf/placeholder).\n",
    "\n",
    "These names will be used at the end of the project to load your saved model.\n",
    "\n",
    "Note: `None` for shapes in TensorFlow allow for a dynamic size."
   ]
  },
  {
   "cell_type": "code",
   "execution_count": 7,
   "metadata": {
    "collapsed": false,
    "deletable": true,
    "editable": true
   },
   "outputs": [
    {
     "name": "stdout",
     "output_type": "stream",
     "text": [
      "Image Input Tests Passed.\n",
      "Label Input Tests Passed.\n",
      "Keep Prob Tests Passed.\n"
     ]
    }
   ],
   "source": [
    "import tensorflow as tf\n",
    "\n",
    "def neural_net_image_input(image_shape):\n",
    "    \"\"\"\n",
    "    Return a Tensor for a batch of image input\n",
    "    : image_shape: Shape of the images\n",
    "    : return: Tensor for image input.\n",
    "    \"\"\"\n",
    "    # TODO: Implement Function\n",
    "    return tf.placeholder(tf.float32, [None, *image_shape], name='x')\n",
    "\n",
    "\n",
    "def neural_net_label_input(n_classes):\n",
    "    \"\"\"\n",
    "    Return a Tensor for a batch of label input\n",
    "    : n_classes: Number of classes\n",
    "    : return: Tensor for label input.\n",
    "    \"\"\"\n",
    "    # TODO: Implement Function\n",
    "    return tf.placeholder(tf.float32, [None, n_classes], name='y')\n",
    "\n",
    "\n",
    "def neural_net_keep_prob_input():\n",
    "    \"\"\"\n",
    "    Return a Tensor for keep probability\n",
    "    : return: Tensor for keep probability.\n",
    "    \"\"\"\n",
    "    # TODO: Implement Function\n",
    "    return tf.placeholder(tf.float32, name='keep_prob')\n",
    "\n",
    "\n",
    "\"\"\"\n",
    "DON'T MODIFY ANYTHING IN THIS CELL THAT IS BELOW THIS LINE\n",
    "\"\"\"\n",
    "tf.reset_default_graph()\n",
    "tests.test_nn_image_inputs(neural_net_image_input)\n",
    "tests.test_nn_label_inputs(neural_net_label_input)\n",
    "tests.test_nn_keep_prob_inputs(neural_net_keep_prob_input)"
   ]
  },
  {
   "cell_type": "markdown",
   "metadata": {
    "deletable": true,
    "editable": true
   },
   "source": [
    "### Convolution and Max Pooling Layer\n",
    "Convolution layers have a lot of success with images. For this code cell, you should implement the function `conv2d_maxpool` to apply convolution then max pooling:\n",
    "* Create the weight and bias using `conv_ksize`, `conv_num_outputs` and the shape of `x_tensor`.\n",
    "* Apply a convolution to `x_tensor` using weight and `conv_strides`.\n",
    " * We recommend you use same padding, but you're welcome to use any padding.\n",
    "* Add bias\n",
    "* Add a nonlinear activation to the convolution.\n",
    "* Apply Max Pooling using `pool_ksize` and `pool_strides`.\n",
    " * We recommend you use same padding, but you're welcome to use any padding.\n",
    "\n",
    "**Note:** You **can't** use [TensorFlow Layers](https://www.tensorflow.org/api_docs/python/tf/layers) or [TensorFlow Layers (contrib)](https://www.tensorflow.org/api_guides/python/contrib.layers) for **this** layer, but you can still use TensorFlow's [Neural Network](https://www.tensorflow.org/api_docs/python/tf/nn) package. You may still use the shortcut option for all the **other** layers."
   ]
  },
  {
   "cell_type": "code",
   "execution_count": 21,
   "metadata": {
    "collapsed": false,
    "deletable": true,
    "editable": true
   },
   "outputs": [
    {
     "name": "stdout",
     "output_type": "stream",
     "text": [
      "Tests Passed\n"
     ]
    }
   ],
   "source": [
    "def conv2d_maxpool(x_tensor, conv_num_outputs, conv_ksize, conv_strides, pool_ksize, pool_strides):\n",
    "    \"\"\"\n",
    "    Apply convolution then max pooling to x_tensor\n",
    "    :param x_tensor: TensorFlow Tensor\n",
    "    :param conv_num_outputs: Number of outputs for the convolutional layer\n",
    "    :param conv_ksize: kernal size 2-D Tuple for the convolutional layer\n",
    "    :param conv_strides: Stride 2-D Tuple for convolution\n",
    "    :param pool_ksize: kernal size 2-D Tuple for pool\n",
    "    :param pool_strides: Stride 2-D Tuple for pool\n",
    "    : return: A tensor that represents convolution and max pooling of x_tensor\n",
    "    \"\"\"\n",
    "    shape = x_tensor.get_shape().as_list()[-1]\n",
    "    weights = tf.Variable(tf.truncated_normal([conv_ksize[0], conv_ksize[1], shape, conv_num_outputs], stddev=0.05))\n",
    "    bias = tf.Variable(tf.zeros(conv_num_outputs))\n",
    "    \n",
    "    strides = [1, *conv_strides, 1]\n",
    "    output = tf.nn.conv2d(x_tensor, weights, strides, padding='SAME')\n",
    "    activation = tf.nn.relu(tf.nn.bias_add(output, bias))\n",
    "    \n",
    "    pool_ksize = [1, pool_ksize[0], pool_ksize[1], 1]\n",
    "    pool_strides = [1, pool_strides[0], pool_strides[1], 1]\n",
    "\n",
    "    max_pool = tf.nn.max_pool(activation, pool_ksize, pool_strides, padding='SAME')\n",
    "\n",
    "    return max_pool\n",
    "\"\"\"\n",
    "DON'T MODIFY ANYTHING IN THIS CELL THAT IS BELOW THIS LINE\n",
    "\"\"\"\n",
    "tests.test_con_pool(conv2d_maxpool)"
   ]
  },
  {
   "cell_type": "markdown",
   "metadata": {
    "deletable": true,
    "editable": true
   },
   "source": [
    "### Flatten Layer\n",
    "Implement the `flatten` function to change the dimension of `x_tensor` from a 4-D tensor to a 2-D tensor.  The output should be the shape (*Batch Size*, *Flattened Image Size*). Shortcut option: you can use classes from the [TensorFlow Layers](https://www.tensorflow.org/api_docs/python/tf/layers) or [TensorFlow Layers (contrib)](https://www.tensorflow.org/api_guides/python/contrib.layers) packages for this layer. For more of a challenge, only use other TensorFlow packages."
   ]
  },
  {
   "cell_type": "code",
   "execution_count": 22,
   "metadata": {
    "collapsed": false,
    "deletable": true,
    "editable": true
   },
   "outputs": [
    {
     "name": "stdout",
     "output_type": "stream",
     "text": [
      "Tests Passed\n"
     ]
    }
   ],
   "source": [
    "def flatten(x_tensor):\n",
    "    \"\"\"\n",
    "    Flatten x_tensor to (Batch Size, Flattened Image Size)\n",
    "    : x_tensor: A tensor of size (Batch Size, ...), where ... are the image dimensions.\n",
    "    : return: A tensor of size (Batch Size, Flattened Image Size).\n",
    "    \"\"\"\n",
    "    # TODO: Implement Function\n",
    "    batch_size, *img_size = x_tensor.get_shape().as_list()\n",
    "    img_size = img_size[0] * img_size[1] * img_size[2]\n",
    "    return tf.reshape(x_tensor, [-1, img_size])\n",
    "\n",
    "\n",
    "\"\"\"\n",
    "DON'T MODIFY ANYTHING IN THIS CELL THAT IS BELOW THIS LINE\n",
    "\"\"\"\n",
    "tests.test_flatten(flatten)"
   ]
  },
  {
   "cell_type": "markdown",
   "metadata": {
    "deletable": true,
    "editable": true
   },
   "source": [
    "### Fully-Connected Layer\n",
    "Implement the `fully_conn` function to apply a fully connected layer to `x_tensor` with the shape (*Batch Size*, *num_outputs*). Shortcut option: you can use classes from the [TensorFlow Layers](https://www.tensorflow.org/api_docs/python/tf/layers) or [TensorFlow Layers (contrib)](https://www.tensorflow.org/api_guides/python/contrib.layers) packages for this layer. For more of a challenge, only use other TensorFlow packages."
   ]
  },
  {
   "cell_type": "code",
   "execution_count": 26,
   "metadata": {
    "collapsed": false,
    "deletable": true,
    "editable": true
   },
   "outputs": [
    {
     "name": "stdout",
     "output_type": "stream",
     "text": [
      "Tests Passed\n"
     ]
    }
   ],
   "source": [
    "def fully_conn(x_tensor, num_outputs):\n",
    "    \"\"\"\n",
    "    Apply a fully connected layer to x_tensor using weight and bias\n",
    "    : x_tensor: A 2-D tensor where the first dimension is batch size.\n",
    "    : num_outputs: The number of output that the new tensor should be.\n",
    "    : return: A 2-D tensor where the second dimension is num_outputs.\n",
    "    \"\"\"\n",
    "    \n",
    "    w_shape = (int(x_tensor.get_shape().as_list()[1]), num_outputs)\n",
    "    w = tf.Variable(tf.random_normal(w_shape, stddev=0.1))\n",
    "    b = tf.Variable(tf.zeros(num_outputs))\n",
    "    x = tf.add(tf.matmul(x_tensor, w), b)\n",
    "    x = tf.nn.relu(x)\n",
    "    return x\n",
    "\n",
    "\"\"\"\n",
    "DON'T MODIFY ANYTHING IN THIS CELL THAT IS BELOW THIS LINE\n",
    "\"\"\"\n",
    "tests.test_fully_conn(fully_conn)"
   ]
  },
  {
   "cell_type": "markdown",
   "metadata": {
    "deletable": true,
    "editable": true
   },
   "source": [
    "### Output Layer\n",
    "Implement the `output` function to apply a fully connected layer to `x_tensor` with the shape (*Batch Size*, *num_outputs*). Shortcut option: you can use classes from the [TensorFlow Layers](https://www.tensorflow.org/api_docs/python/tf/layers) or [TensorFlow Layers (contrib)](https://www.tensorflow.org/api_guides/python/contrib.layers) packages for this layer. For more of a challenge, only use other TensorFlow packages.\n",
    "\n",
    "**Note:** Activation, softmax, or cross entropy should **not** be applied to this."
   ]
  },
  {
   "cell_type": "code",
   "execution_count": 27,
   "metadata": {
    "collapsed": false,
    "deletable": true,
    "editable": true
   },
   "outputs": [
    {
     "name": "stdout",
     "output_type": "stream",
     "text": [
      "Tests Passed\n"
     ]
    }
   ],
   "source": [
    "def output(x_tensor, num_outputs):\n",
    "    \"\"\"\n",
    "    Apply a output layer to x_tensor using weight and bias\n",
    "    : x_tensor: A 2-D tensor where the first dimension is batch size.\n",
    "    : num_outputs: The number of output that the new tensor should be.\n",
    "    : return: A 2-D tensor where the second dimension is num_outputs.\n",
    "    \"\"\"\n",
    "    # TODO: Implement Function\n",
    "    shape = x_tensor.get_shape().as_list()\n",
    "    weights = tf.Variable(tf.truncated_normal([shape[1], num_outputs], stddev=0.05))\n",
    "    bias = tf.Variable(tf.zeros(num_outputs))\n",
    "    return tf.add(tf.matmul(x_tensor, weights), bias)\n",
    "\n",
    "\n",
    "\"\"\"\n",
    "DON'T MODIFY ANYTHING IN THIS CELL THAT IS BELOW THIS LINE\n",
    "\"\"\"\n",
    "tests.test_output(output)"
   ]
  },
  {
   "cell_type": "markdown",
   "metadata": {
    "deletable": true,
    "editable": true
   },
   "source": [
    "### Create Convolutional Model\n",
    "Implement the function `conv_net` to create a convolutional neural network model. The function takes in a batch of images, `x`, and outputs logits.  Use the layers you created above to create this model:\n",
    "\n",
    "* Apply 1, 2, or 3 Convolution and Max Pool layers\n",
    "* Apply a Flatten Layer\n",
    "* Apply 1, 2, or 3 Fully Connected Layers\n",
    "* Apply an Output Layer\n",
    "* Return the output\n",
    "* Apply [TensorFlow's Dropout](https://www.tensorflow.org/api_docs/python/tf/nn/dropout) to one or more layers in the model using `keep_prob`. "
   ]
  },
  {
   "cell_type": "code",
   "execution_count": 31,
   "metadata": {
    "collapsed": false,
    "deletable": true,
    "editable": true
   },
   "outputs": [
    {
     "name": "stdout",
     "output_type": "stream",
     "text": [
      "Neural Network Built!\n"
     ]
    }
   ],
   "source": [
    "def conv_net(x, keep_prob):\n",
    "    \"\"\"\n",
    "    Create a convolutional neural network model\n",
    "    : x: Placeholder tensor that holds image data.\n",
    "    : keep_prob: Placeholder tensor that hold dropout keep probability.\n",
    "    : return: Tensor that represents logits\n",
    "    \"\"\"\n",
    "    # TODO: Apply 1, 2, or 3 Convolution and Max Pool layers\n",
    "    #    Play around with different number of outputs, kernel size and stride\n",
    "    # Function Definition from Above:\n",
    "    #    conv2d_maxpool(x_tensor, conv_num_outputs, conv_ksize, conv_strides, pool_ksize, pool_strides)\n",
    "    x = conv2d_maxpool(x, 32, (3, 3), (1, 1), (2, 2), (2, 2))\n",
    "    x = conv2d_maxpool(x, 32, (3, 3), (2, 2), (2, 2), (2, 2))\n",
    "    x = conv2d_maxpool(x, 64, (3, 3), (1, 1), (2, 2), (2, 2))\n",
    "\n",
    "    # TODO: Apply a Flatten Layer\n",
    "    # Function Definition from Above:\n",
    "    #   flatten(x_tensor)\n",
    "    x = flatten(x)\n",
    "\n",
    "    # TODO: Apply 1, 2, or 3 Fully Connected Layers\n",
    "    #    Play around with different number of outputs\n",
    "    # Function Definition from Above:\n",
    "    #   fully_conn(x_tensor, num_outputs)\n",
    "    flat_x = fully_conn(x, 512)\n",
    "    flat_x = tf.nn.dropout(x, keep_prob)\n",
    "    flat_x = fully_conn(x, 128)\n",
    "    flat_x = tf.nn.dropout(x, keep_prob)\n",
    "    \n",
    "    # TODO: Apply an Output Layer\n",
    "    #    Set this to the number of classes\n",
    "    # Function Definition from Above:\n",
    "    #   output(x_tensor, num_outputs)\n",
    "    out = output(x, 10)\n",
    "    \n",
    "    # TODO: return output\n",
    "    return out\n",
    "\n",
    "\n",
    "\"\"\"\n",
    "DON'T MODIFY ANYTHING IN THIS CELL THAT IS BELOW THIS LINE\n",
    "\"\"\"\n",
    "\n",
    "##############################\n",
    "## Build the Neural Network ##\n",
    "##############################\n",
    "\n",
    "# Remove previous weights, bias, inputs, etc..\n",
    "tf.reset_default_graph()\n",
    "\n",
    "# Inputs\n",
    "x = neural_net_image_input((32, 32, 3))\n",
    "y = neural_net_label_input(10)\n",
    "keep_prob = neural_net_keep_prob_input()\n",
    "\n",
    "# Model\n",
    "logits = conv_net(x, keep_prob)\n",
    "\n",
    "# Name logits Tensor, so that is can be loaded from disk after training\n",
    "logits = tf.identity(logits, name='logits')\n",
    "\n",
    "# Loss and Optimizer\n",
    "cost = tf.reduce_mean(tf.nn.softmax_cross_entropy_with_logits(logits=logits, labels=y))\n",
    "optimizer = tf.train.AdamOptimizer().minimize(cost)\n",
    "\n",
    "# Accuracy\n",
    "correct_pred = tf.equal(tf.argmax(logits, 1), tf.argmax(y, 1))\n",
    "accuracy = tf.reduce_mean(tf.cast(correct_pred, tf.float32), name='accuracy')\n",
    "\n",
    "tests.test_conv_net(conv_net)"
   ]
  },
  {
   "cell_type": "markdown",
   "metadata": {
    "deletable": true,
    "editable": true
   },
   "source": [
    "## Train the Neural Network\n",
    "### Single Optimization\n",
    "Implement the function `train_neural_network` to do a single optimization.  The optimization should use `optimizer` to optimize in `session` with a `feed_dict` of the following:\n",
    "* `x` for image input\n",
    "* `y` for labels\n",
    "* `keep_prob` for keep probability for dropout\n",
    "\n",
    "This function will be called for each batch, so `tf.global_variables_initializer()` has already been called.\n",
    "\n",
    "Note: Nothing needs to be returned. This function is only optimizing the neural network."
   ]
  },
  {
   "cell_type": "code",
   "execution_count": 35,
   "metadata": {
    "collapsed": false,
    "deletable": true,
    "editable": true
   },
   "outputs": [
    {
     "name": "stdout",
     "output_type": "stream",
     "text": [
      "Tests Passed\n"
     ]
    }
   ],
   "source": [
    "def train_neural_network(session, optimizer, keep_probability, feature_batch, label_batch):\n",
    "    \"\"\"\n",
    "    Optimize the session on a batch of images and labels\n",
    "    : session: Current TensorFlow session\n",
    "    : optimizer: TensorFlow optimizer function\n",
    "    : keep_probability: keep probability\n",
    "    : feature_batch: Batch of Numpy image data\n",
    "    : label_batch: Batch of Numpy label data\n",
    "    \"\"\"\n",
    "    # TODO: Implement Function\n",
    "    session.run(optimizer, feed_dict={\n",
    "        x: feature_batch,\n",
    "        y: label_batch,\n",
    "        keep_prob: keep_probability\n",
    "    })\n",
    "\n",
    "\n",
    "\"\"\"\n",
    "DON'T MODIFY ANYTHING IN THIS CELL THAT IS BELOW THIS LINE\n",
    "\"\"\"\n",
    "tests.test_train_nn(train_neural_network)"
   ]
  },
  {
   "cell_type": "markdown",
   "metadata": {
    "deletable": true,
    "editable": true
   },
   "source": [
    "### Show Stats\n",
    "Implement the function `print_stats` to print loss and validation accuracy.  Use the global variables `valid_features` and `valid_labels` to calculate validation accuracy.  Use a keep probability of `1.0` to calculate the loss and validation accuracy."
   ]
  },
  {
   "cell_type": "code",
   "execution_count": 36,
   "metadata": {
    "collapsed": false,
    "deletable": true,
    "editable": true
   },
   "outputs": [],
   "source": [
    "def print_stats(session, feature_batch, label_batch, cost, accuracy):\n",
    "    \"\"\"\n",
    "    Print information about loss and validation accuracy\n",
    "    : session: Current TensorFlow session\n",
    "    : feature_batch: Batch of Numpy image data\n",
    "    : label_batch: Batch of Numpy label data\n",
    "    : cost: TensorFlow cost function\n",
    "    : accuracy: TensorFlow accuracy function\n",
    "    \"\"\"\n",
    "    # TODO: Implement Function\n",
    "    loss_valid_val = session.run(cost, feed_dict={x: feature_batch, y: label_batch, keep_prob: 1.})\n",
    "    acc_valid_val = session.run(accuracy, feed_dict={x: valid_features, y: valid_labels, keep_prob: 1.})\n",
    "    \n",
    "    print('Loss: {:>10.4f} Validation Accuracy: {:.6f}'.format(loss_valid_val, acc_valid_val))"
   ]
  },
  {
   "cell_type": "markdown",
   "metadata": {
    "deletable": true,
    "editable": true
   },
   "source": [
    "### Hyperparameters\n",
    "Tune the following parameters:\n",
    "* Set `epochs` to the number of iterations until the network stops learning or start overfitting\n",
    "* Set `batch_size` to the highest number that your machine has memory for.  Most people set them to common sizes of memory:\n",
    " * 64\n",
    " * 128\n",
    " * 256\n",
    " * ...\n",
    "* Set `keep_probability` to the probability of keeping a node using dropout"
   ]
  },
  {
   "cell_type": "code",
   "execution_count": 37,
   "metadata": {
    "collapsed": true,
    "deletable": true,
    "editable": true
   },
   "outputs": [],
   "source": [
    "# TODO: Tune Parameters\n",
    "epochs = 50\n",
    "batch_size = 256\n",
    "keep_probability = 0.5"
   ]
  },
  {
   "cell_type": "markdown",
   "metadata": {
    "deletable": true,
    "editable": true
   },
   "source": [
    "### Train on a Single CIFAR-10 Batch\n",
    "Instead of training the neural network on all the CIFAR-10 batches of data, let's use a single batch. This should save time while you iterate on the model to get a better accuracy.  Once the final validation accuracy is 50% or greater, run the model on all the data in the next section."
   ]
  },
  {
   "cell_type": "code",
   "execution_count": 38,
   "metadata": {
    "collapsed": false,
    "deletable": true,
    "editable": true
   },
   "outputs": [
    {
     "name": "stdout",
     "output_type": "stream",
     "text": [
      "Checking the Training on a Single Batch...\n",
      "Epoch  1, CIFAR-10 Batch 1:  Loss:     2.1590 Validation Accuracy: 0.235400\n",
      "Epoch  2, CIFAR-10 Batch 1:  Loss:     2.1224 Validation Accuracy: 0.284400\n",
      "Epoch  3, CIFAR-10 Batch 1:  Loss:     1.9870 Validation Accuracy: 0.352200\n",
      "Epoch  4, CIFAR-10 Batch 1:  Loss:     1.8657 Validation Accuracy: 0.388000\n",
      "Epoch  5, CIFAR-10 Batch 1:  Loss:     1.7591 Validation Accuracy: 0.406800\n",
      "Epoch  6, CIFAR-10 Batch 1:  Loss:     1.6652 Validation Accuracy: 0.424600\n",
      "Epoch  7, CIFAR-10 Batch 1:  Loss:     1.5831 Validation Accuracy: 0.436000\n",
      "Epoch  8, CIFAR-10 Batch 1:  Loss:     1.5017 Validation Accuracy: 0.460600\n",
      "Epoch  9, CIFAR-10 Batch 1:  Loss:     1.4276 Validation Accuracy: 0.469600\n",
      "Epoch 10, CIFAR-10 Batch 1:  Loss:     1.3776 Validation Accuracy: 0.476800\n",
      "Epoch 11, CIFAR-10 Batch 1:  Loss:     1.3465 Validation Accuracy: 0.473000\n",
      "Epoch 12, CIFAR-10 Batch 1:  Loss:     1.3122 Validation Accuracy: 0.476800\n",
      "Epoch 13, CIFAR-10 Batch 1:  Loss:     1.2466 Validation Accuracy: 0.487400\n",
      "Epoch 14, CIFAR-10 Batch 1:  Loss:     1.2100 Validation Accuracy: 0.491800\n",
      "Epoch 15, CIFAR-10 Batch 1:  Loss:     1.1494 Validation Accuracy: 0.500200\n",
      "Epoch 16, CIFAR-10 Batch 1:  Loss:     1.1091 Validation Accuracy: 0.501400\n",
      "Epoch 17, CIFAR-10 Batch 1:  Loss:     1.0681 Validation Accuracy: 0.505200\n",
      "Epoch 18, CIFAR-10 Batch 1:  Loss:     1.0275 Validation Accuracy: 0.506000\n",
      "Epoch 19, CIFAR-10 Batch 1:  Loss:     0.9905 Validation Accuracy: 0.509200\n",
      "Epoch 20, CIFAR-10 Batch 1:  Loss:     0.9564 Validation Accuracy: 0.512000\n",
      "Epoch 21, CIFAR-10 Batch 1:  Loss:     0.9233 Validation Accuracy: 0.514600\n",
      "Epoch 22, CIFAR-10 Batch 1:  Loss:     0.8929 Validation Accuracy: 0.516800\n",
      "Epoch 23, CIFAR-10 Batch 1:  Loss:     0.8649 Validation Accuracy: 0.517800\n",
      "Epoch 24, CIFAR-10 Batch 1:  Loss:     0.8332 Validation Accuracy: 0.518800\n",
      "Epoch 25, CIFAR-10 Batch 1:  Loss:     0.8072 Validation Accuracy: 0.520200\n",
      "Epoch 26, CIFAR-10 Batch 1:  Loss:     0.7825 Validation Accuracy: 0.522000\n",
      "Epoch 27, CIFAR-10 Batch 1:  Loss:     0.7570 Validation Accuracy: 0.522200\n",
      "Epoch 28, CIFAR-10 Batch 1:  Loss:     0.7350 Validation Accuracy: 0.521800\n",
      "Epoch 29, CIFAR-10 Batch 1:  Loss:     0.7127 Validation Accuracy: 0.523400\n",
      "Epoch 30, CIFAR-10 Batch 1:  Loss:     0.6922 Validation Accuracy: 0.525400\n",
      "Epoch 31, CIFAR-10 Batch 1:  Loss:     0.6683 Validation Accuracy: 0.526000\n",
      "Epoch 32, CIFAR-10 Batch 1:  Loss:     0.6421 Validation Accuracy: 0.527800\n",
      "Epoch 33, CIFAR-10 Batch 1:  Loss:     0.6188 Validation Accuracy: 0.530800\n",
      "Epoch 34, CIFAR-10 Batch 1:  Loss:     0.5943 Validation Accuracy: 0.536600\n",
      "Epoch 35, CIFAR-10 Batch 1:  Loss:     0.5920 Validation Accuracy: 0.534400\n",
      "Epoch 36, CIFAR-10 Batch 1:  Loss:     0.5795 Validation Accuracy: 0.535600\n",
      "Epoch 37, CIFAR-10 Batch 1:  Loss:     0.5452 Validation Accuracy: 0.537200\n",
      "Epoch 38, CIFAR-10 Batch 1:  Loss:     0.5184 Validation Accuracy: 0.540600\n",
      "Epoch 39, CIFAR-10 Batch 1:  Loss:     0.4958 Validation Accuracy: 0.543400\n",
      "Epoch 40, CIFAR-10 Batch 1:  Loss:     0.4727 Validation Accuracy: 0.545000\n",
      "Epoch 41, CIFAR-10 Batch 1:  Loss:     0.4522 Validation Accuracy: 0.545600\n",
      "Epoch 42, CIFAR-10 Batch 1:  Loss:     0.4331 Validation Accuracy: 0.544600\n",
      "Epoch 43, CIFAR-10 Batch 1:  Loss:     0.4161 Validation Accuracy: 0.543400\n",
      "Epoch 44, CIFAR-10 Batch 1:  Loss:     0.4001 Validation Accuracy: 0.545400\n",
      "Epoch 45, CIFAR-10 Batch 1:  Loss:     0.3843 Validation Accuracy: 0.545000\n",
      "Epoch 46, CIFAR-10 Batch 1:  Loss:     0.3721 Validation Accuracy: 0.546200\n",
      "Epoch 47, CIFAR-10 Batch 1:  Loss:     0.3595 Validation Accuracy: 0.548800\n",
      "Epoch 48, CIFAR-10 Batch 1:  Loss:     0.3455 Validation Accuracy: 0.549200\n",
      "Epoch 49, CIFAR-10 Batch 1:  Loss:     0.3339 Validation Accuracy: 0.548400\n",
      "Epoch 50, CIFAR-10 Batch 1:  Loss:     0.3260 Validation Accuracy: 0.549400\n"
     ]
    }
   ],
   "source": [
    "\"\"\"\n",
    "DON'T MODIFY ANYTHING IN THIS CELL\n",
    "\"\"\"\n",
    "print('Checking the Training on a Single Batch...')\n",
    "with tf.Session() as sess:\n",
    "    # Initializing the variables\n",
    "    sess.run(tf.global_variables_initializer())\n",
    "    \n",
    "    # Training cycle\n",
    "    for epoch in range(epochs):\n",
    "        batch_i = 1\n",
    "        for batch_features, batch_labels in helper.load_preprocess_training_batch(batch_i, batch_size):\n",
    "            train_neural_network(sess, optimizer, keep_probability, batch_features, batch_labels)\n",
    "        print('Epoch {:>2}, CIFAR-10 Batch {}:  '.format(epoch + 1, batch_i), end='')\n",
    "        print_stats(sess, batch_features, batch_labels, cost, accuracy)"
   ]
  },
  {
   "cell_type": "markdown",
   "metadata": {
    "deletable": true,
    "editable": true
   },
   "source": [
    "### Fully Train the Model\n",
    "Now that you got a good accuracy with a single CIFAR-10 batch, try it with all five batches."
   ]
  },
  {
   "cell_type": "code",
   "execution_count": 39,
   "metadata": {
    "collapsed": false,
    "deletable": true,
    "editable": true,
    "scrolled": false
   },
   "outputs": [
    {
     "name": "stdout",
     "output_type": "stream",
     "text": [
      "Training...\n",
      "Epoch  1, CIFAR-10 Batch 1:  Loss:     2.1627 Validation Accuracy: 0.271200\n",
      "Epoch  1, CIFAR-10 Batch 2:  Loss:     1.9390 Validation Accuracy: 0.319800\n",
      "Epoch  1, CIFAR-10 Batch 3:  Loss:     1.7053 Validation Accuracy: 0.336000\n",
      "Epoch  1, CIFAR-10 Batch 4:  Loss:     1.6887 Validation Accuracy: 0.387800\n",
      "Epoch  1, CIFAR-10 Batch 5:  Loss:     1.6664 Validation Accuracy: 0.402600\n",
      "Epoch  2, CIFAR-10 Batch 1:  Loss:     1.8952 Validation Accuracy: 0.426000\n",
      "Epoch  2, CIFAR-10 Batch 2:  Loss:     1.7204 Validation Accuracy: 0.429000\n",
      "Epoch  2, CIFAR-10 Batch 3:  Loss:     1.4547 Validation Accuracy: 0.411800\n",
      "Epoch  2, CIFAR-10 Batch 4:  Loss:     1.4963 Validation Accuracy: 0.435400\n",
      "Epoch  2, CIFAR-10 Batch 5:  Loss:     1.4656 Validation Accuracy: 0.455600\n",
      "Epoch  3, CIFAR-10 Batch 1:  Loss:     1.6994 Validation Accuracy: 0.473600\n",
      "Epoch  3, CIFAR-10 Batch 2:  Loss:     1.5630 Validation Accuracy: 0.475600\n",
      "Epoch  3, CIFAR-10 Batch 3:  Loss:     1.2952 Validation Accuracy: 0.461800\n",
      "Epoch  3, CIFAR-10 Batch 4:  Loss:     1.3727 Validation Accuracy: 0.481200\n",
      "Epoch  3, CIFAR-10 Batch 5:  Loss:     1.3781 Validation Accuracy: 0.490200\n",
      "Epoch  4, CIFAR-10 Batch 1:  Loss:     1.5158 Validation Accuracy: 0.502800\n",
      "Epoch  4, CIFAR-10 Batch 2:  Loss:     1.4057 Validation Accuracy: 0.506200\n",
      "Epoch  4, CIFAR-10 Batch 3:  Loss:     1.1660 Validation Accuracy: 0.493000\n",
      "Epoch  4, CIFAR-10 Batch 4:  Loss:     1.2697 Validation Accuracy: 0.512200\n",
      "Epoch  4, CIFAR-10 Batch 5:  Loss:     1.3148 Validation Accuracy: 0.509000\n",
      "Epoch  5, CIFAR-10 Batch 1:  Loss:     1.4056 Validation Accuracy: 0.523200\n",
      "Epoch  5, CIFAR-10 Batch 2:  Loss:     1.2759 Validation Accuracy: 0.533000\n",
      "Epoch  5, CIFAR-10 Batch 3:  Loss:     1.0481 Validation Accuracy: 0.515600\n",
      "Epoch  5, CIFAR-10 Batch 4:  Loss:     1.1805 Validation Accuracy: 0.532800\n",
      "Epoch  5, CIFAR-10 Batch 5:  Loss:     1.2503 Validation Accuracy: 0.531000\n",
      "Epoch  6, CIFAR-10 Batch 1:  Loss:     1.3061 Validation Accuracy: 0.539200\n",
      "Epoch  6, CIFAR-10 Batch 2:  Loss:     1.1684 Validation Accuracy: 0.551600\n",
      "Epoch  6, CIFAR-10 Batch 3:  Loss:     0.9441 Validation Accuracy: 0.535200\n",
      "Epoch  6, CIFAR-10 Batch 4:  Loss:     1.0963 Validation Accuracy: 0.549800\n",
      "Epoch  6, CIFAR-10 Batch 5:  Loss:     1.1795 Validation Accuracy: 0.546600\n",
      "Epoch  7, CIFAR-10 Batch 1:  Loss:     1.2261 Validation Accuracy: 0.551200\n",
      "Epoch  7, CIFAR-10 Batch 2:  Loss:     1.0870 Validation Accuracy: 0.560800\n",
      "Epoch  7, CIFAR-10 Batch 3:  Loss:     0.8612 Validation Accuracy: 0.551400\n",
      "Epoch  7, CIFAR-10 Batch 4:  Loss:     1.0137 Validation Accuracy: 0.558600\n",
      "Epoch  7, CIFAR-10 Batch 5:  Loss:     1.1079 Validation Accuracy: 0.560600\n",
      "Epoch  8, CIFAR-10 Batch 1:  Loss:     1.1639 Validation Accuracy: 0.560400\n",
      "Epoch  8, CIFAR-10 Batch 2:  Loss:     1.0197 Validation Accuracy: 0.565000\n",
      "Epoch  8, CIFAR-10 Batch 3:  Loss:     0.7964 Validation Accuracy: 0.562800\n",
      "Epoch  8, CIFAR-10 Batch 4:  Loss:     0.9479 Validation Accuracy: 0.567000\n",
      "Epoch  8, CIFAR-10 Batch 5:  Loss:     1.0340 Validation Accuracy: 0.569400\n",
      "Epoch  9, CIFAR-10 Batch 1:  Loss:     1.1081 Validation Accuracy: 0.569800\n",
      "Epoch  9, CIFAR-10 Batch 2:  Loss:     0.9498 Validation Accuracy: 0.566400\n",
      "Epoch  9, CIFAR-10 Batch 3:  Loss:     0.7390 Validation Accuracy: 0.576600\n",
      "Epoch  9, CIFAR-10 Batch 4:  Loss:     0.8834 Validation Accuracy: 0.578600\n",
      "Epoch  9, CIFAR-10 Batch 5:  Loss:     0.9436 Validation Accuracy: 0.585000\n",
      "Epoch 10, CIFAR-10 Batch 1:  Loss:     1.0504 Validation Accuracy: 0.586000\n",
      "Epoch 10, CIFAR-10 Batch 2:  Loss:     0.9060 Validation Accuracy: 0.571600\n",
      "Epoch 10, CIFAR-10 Batch 3:  Loss:     0.6823 Validation Accuracy: 0.589200\n",
      "Epoch 10, CIFAR-10 Batch 4:  Loss:     0.8332 Validation Accuracy: 0.591600\n",
      "Epoch 10, CIFAR-10 Batch 5:  Loss:     0.8733 Validation Accuracy: 0.594600\n",
      "Epoch 11, CIFAR-10 Batch 1:  Loss:     0.9979 Validation Accuracy: 0.601400\n",
      "Epoch 11, CIFAR-10 Batch 2:  Loss:     0.8551 Validation Accuracy: 0.580000\n",
      "Epoch 11, CIFAR-10 Batch 3:  Loss:     0.6389 Validation Accuracy: 0.598600\n",
      "Epoch 11, CIFAR-10 Batch 4:  Loss:     0.7851 Validation Accuracy: 0.598200\n",
      "Epoch 11, CIFAR-10 Batch 5:  Loss:     0.8127 Validation Accuracy: 0.603800\n",
      "Epoch 12, CIFAR-10 Batch 1:  Loss:     0.9560 Validation Accuracy: 0.606200\n",
      "Epoch 12, CIFAR-10 Batch 2:  Loss:     0.8106 Validation Accuracy: 0.586000\n",
      "Epoch 12, CIFAR-10 Batch 3:  Loss:     0.5988 Validation Accuracy: 0.602800\n",
      "Epoch 12, CIFAR-10 Batch 4:  Loss:     0.7445 Validation Accuracy: 0.603800\n",
      "Epoch 12, CIFAR-10 Batch 5:  Loss:     0.7580 Validation Accuracy: 0.611000\n",
      "Epoch 13, CIFAR-10 Batch 1:  Loss:     0.9233 Validation Accuracy: 0.616200\n",
      "Epoch 13, CIFAR-10 Batch 2:  Loss:     0.7600 Validation Accuracy: 0.589800\n",
      "Epoch 13, CIFAR-10 Batch 3:  Loss:     0.5621 Validation Accuracy: 0.608600\n",
      "Epoch 13, CIFAR-10 Batch 4:  Loss:     0.7136 Validation Accuracy: 0.609200\n",
      "Epoch 13, CIFAR-10 Batch 5:  Loss:     0.7087 Validation Accuracy: 0.614000\n",
      "Epoch 14, CIFAR-10 Batch 1:  Loss:     0.8818 Validation Accuracy: 0.621400\n",
      "Epoch 14, CIFAR-10 Batch 2:  Loss:     0.7186 Validation Accuracy: 0.599200\n",
      "Epoch 14, CIFAR-10 Batch 3:  Loss:     0.5374 Validation Accuracy: 0.613400\n",
      "Epoch 14, CIFAR-10 Batch 4:  Loss:     0.6732 Validation Accuracy: 0.617800\n",
      "Epoch 14, CIFAR-10 Batch 5:  Loss:     0.6656 Validation Accuracy: 0.614600\n",
      "Epoch 15, CIFAR-10 Batch 1:  Loss:     0.8362 Validation Accuracy: 0.626200\n",
      "Epoch 15, CIFAR-10 Batch 2:  Loss:     0.6793 Validation Accuracy: 0.610200\n",
      "Epoch 15, CIFAR-10 Batch 3:  Loss:     0.5047 Validation Accuracy: 0.617600\n",
      "Epoch 15, CIFAR-10 Batch 4:  Loss:     0.6519 Validation Accuracy: 0.622800\n",
      "Epoch 15, CIFAR-10 Batch 5:  Loss:     0.6253 Validation Accuracy: 0.622400\n",
      "Epoch 16, CIFAR-10 Batch 1:  Loss:     0.7956 Validation Accuracy: 0.629800\n",
      "Epoch 16, CIFAR-10 Batch 2:  Loss:     0.6407 Validation Accuracy: 0.611800\n",
      "Epoch 16, CIFAR-10 Batch 3:  Loss:     0.4768 Validation Accuracy: 0.624400\n",
      "Epoch 16, CIFAR-10 Batch 4:  Loss:     0.6278 Validation Accuracy: 0.627200\n",
      "Epoch 16, CIFAR-10 Batch 5:  Loss:     0.5923 Validation Accuracy: 0.628400\n",
      "Epoch 17, CIFAR-10 Batch 1:  Loss:     0.7499 Validation Accuracy: 0.633000\n",
      "Epoch 17, CIFAR-10 Batch 2:  Loss:     0.6046 Validation Accuracy: 0.619000\n",
      "Epoch 17, CIFAR-10 Batch 3:  Loss:     0.4524 Validation Accuracy: 0.627600\n",
      "Epoch 17, CIFAR-10 Batch 4:  Loss:     0.6078 Validation Accuracy: 0.632000\n",
      "Epoch 17, CIFAR-10 Batch 5:  Loss:     0.5562 Validation Accuracy: 0.633200\n",
      "Epoch 18, CIFAR-10 Batch 1:  Loss:     0.7060 Validation Accuracy: 0.637400\n",
      "Epoch 18, CIFAR-10 Batch 2:  Loss:     0.5712 Validation Accuracy: 0.624000\n",
      "Epoch 18, CIFAR-10 Batch 3:  Loss:     0.4268 Validation Accuracy: 0.632400\n",
      "Epoch 18, CIFAR-10 Batch 4:  Loss:     0.5839 Validation Accuracy: 0.635400\n",
      "Epoch 18, CIFAR-10 Batch 5:  Loss:     0.5216 Validation Accuracy: 0.636800\n",
      "Epoch 19, CIFAR-10 Batch 1:  Loss:     0.6660 Validation Accuracy: 0.641200\n",
      "Epoch 19, CIFAR-10 Batch 2:  Loss:     0.5363 Validation Accuracy: 0.628000\n",
      "Epoch 19, CIFAR-10 Batch 3:  Loss:     0.4053 Validation Accuracy: 0.636400\n",
      "Epoch 19, CIFAR-10 Batch 4:  Loss:     0.5656 Validation Accuracy: 0.640200\n",
      "Epoch 19, CIFAR-10 Batch 5:  Loss:     0.4932 Validation Accuracy: 0.635400\n",
      "Epoch 20, CIFAR-10 Batch 1:  Loss:     0.6363 Validation Accuracy: 0.643400\n",
      "Epoch 20, CIFAR-10 Batch 2:  Loss:     0.5094 Validation Accuracy: 0.634000\n",
      "Epoch 20, CIFAR-10 Batch 3:  Loss:     0.3856 Validation Accuracy: 0.639800\n",
      "Epoch 20, CIFAR-10 Batch 4:  Loss:     0.5438 Validation Accuracy: 0.645000\n",
      "Epoch 20, CIFAR-10 Batch 5:  Loss:     0.4674 Validation Accuracy: 0.641000\n",
      "Epoch 21, CIFAR-10 Batch 1:  Loss:     0.6053 Validation Accuracy: 0.647200\n",
      "Epoch 21, CIFAR-10 Batch 2:  Loss:     0.4831 Validation Accuracy: 0.637600\n",
      "Epoch 21, CIFAR-10 Batch 3:  Loss:     0.3631 Validation Accuracy: 0.642800\n",
      "Epoch 21, CIFAR-10 Batch 4:  Loss:     0.5196 Validation Accuracy: 0.646600\n",
      "Epoch 21, CIFAR-10 Batch 5:  Loss:     0.4443 Validation Accuracy: 0.643600\n",
      "Epoch 22, CIFAR-10 Batch 1:  Loss:     0.5747 Validation Accuracy: 0.652200\n",
      "Epoch 22, CIFAR-10 Batch 2:  Loss:     0.4548 Validation Accuracy: 0.638800\n",
      "Epoch 22, CIFAR-10 Batch 3:  Loss:     0.3459 Validation Accuracy: 0.646200\n",
      "Epoch 22, CIFAR-10 Batch 4:  Loss:     0.4984 Validation Accuracy: 0.650200\n",
      "Epoch 22, CIFAR-10 Batch 5:  Loss:     0.4216 Validation Accuracy: 0.643800\n",
      "Epoch 23, CIFAR-10 Batch 1:  Loss:     0.5486 Validation Accuracy: 0.653000\n",
      "Epoch 23, CIFAR-10 Batch 2:  Loss:     0.4275 Validation Accuracy: 0.643000\n",
      "Epoch 23, CIFAR-10 Batch 3:  Loss:     0.3327 Validation Accuracy: 0.649800\n",
      "Epoch 23, CIFAR-10 Batch 4:  Loss:     0.4770 Validation Accuracy: 0.652200\n",
      "Epoch 23, CIFAR-10 Batch 5:  Loss:     0.4016 Validation Accuracy: 0.648600\n",
      "Epoch 24, CIFAR-10 Batch 1:  Loss:     0.5274 Validation Accuracy: 0.655800\n",
      "Epoch 24, CIFAR-10 Batch 2:  Loss:     0.4048 Validation Accuracy: 0.643800\n",
      "Epoch 24, CIFAR-10 Batch 3:  Loss:     0.3190 Validation Accuracy: 0.649600\n",
      "Epoch 24, CIFAR-10 Batch 4:  Loss:     0.4561 Validation Accuracy: 0.655400\n",
      "Epoch 24, CIFAR-10 Batch 5:  Loss:     0.3834 Validation Accuracy: 0.650000\n",
      "Epoch 25, CIFAR-10 Batch 1:  Loss:     0.5059 Validation Accuracy: 0.657000\n",
      "Epoch 25, CIFAR-10 Batch 2:  Loss:     0.3828 Validation Accuracy: 0.648600\n",
      "Epoch 25, CIFAR-10 Batch 3:  Loss:     0.3088 Validation Accuracy: 0.649400\n",
      "Epoch 25, CIFAR-10 Batch 4:  Loss:     0.4293 Validation Accuracy: 0.663200\n",
      "Epoch 25, CIFAR-10 Batch 5:  Loss:     0.3659 Validation Accuracy: 0.656800\n",
      "Epoch 26, CIFAR-10 Batch 1:  Loss:     0.4837 Validation Accuracy: 0.655800\n",
      "Epoch 26, CIFAR-10 Batch 2:  Loss:     0.3605 Validation Accuracy: 0.652400\n",
      "Epoch 26, CIFAR-10 Batch 3:  Loss:     0.3018 Validation Accuracy: 0.651800\n",
      "Epoch 26, CIFAR-10 Batch 4:  Loss:     0.4049 Validation Accuracy: 0.666200\n",
      "Epoch 26, CIFAR-10 Batch 5:  Loss:     0.3510 Validation Accuracy: 0.656800\n",
      "Epoch 27, CIFAR-10 Batch 1:  Loss:     0.4648 Validation Accuracy: 0.661200\n",
      "Epoch 27, CIFAR-10 Batch 2:  Loss:     0.3373 Validation Accuracy: 0.654000\n",
      "Epoch 27, CIFAR-10 Batch 3:  Loss:     0.2943 Validation Accuracy: 0.648400\n",
      "Epoch 27, CIFAR-10 Batch 4:  Loss:     0.3897 Validation Accuracy: 0.666400\n",
      "Epoch 27, CIFAR-10 Batch 5:  Loss:     0.3365 Validation Accuracy: 0.664800\n",
      "Epoch 28, CIFAR-10 Batch 1:  Loss:     0.4460 Validation Accuracy: 0.660200\n",
      "Epoch 28, CIFAR-10 Batch 2:  Loss:     0.3218 Validation Accuracy: 0.653800\n",
      "Epoch 28, CIFAR-10 Batch 3:  Loss:     0.2823 Validation Accuracy: 0.654000\n",
      "Epoch 28, CIFAR-10 Batch 4:  Loss:     0.3739 Validation Accuracy: 0.666400\n",
      "Epoch 28, CIFAR-10 Batch 5:  Loss:     0.3251 Validation Accuracy: 0.667400\n",
      "Epoch 29, CIFAR-10 Batch 1:  Loss:     0.4262 Validation Accuracy: 0.663200\n",
      "Epoch 29, CIFAR-10 Batch 2:  Loss:     0.3060 Validation Accuracy: 0.655200\n",
      "Epoch 29, CIFAR-10 Batch 3:  Loss:     0.2728 Validation Accuracy: 0.654000\n",
      "Epoch 29, CIFAR-10 Batch 4:  Loss:     0.3565 Validation Accuracy: 0.668400\n",
      "Epoch 29, CIFAR-10 Batch 5:  Loss:     0.3132 Validation Accuracy: 0.667000\n",
      "Epoch 30, CIFAR-10 Batch 1:  Loss:     0.4175 Validation Accuracy: 0.662200\n",
      "Epoch 30, CIFAR-10 Batch 2:  Loss:     0.2917 Validation Accuracy: 0.658200\n",
      "Epoch 30, CIFAR-10 Batch 3:  Loss:     0.2625 Validation Accuracy: 0.655200\n",
      "Epoch 30, CIFAR-10 Batch 4:  Loss:     0.3408 Validation Accuracy: 0.669800\n",
      "Epoch 30, CIFAR-10 Batch 5:  Loss:     0.2993 Validation Accuracy: 0.666600\n",
      "Epoch 31, CIFAR-10 Batch 1:  Loss:     0.4095 Validation Accuracy: 0.663600\n",
      "Epoch 31, CIFAR-10 Batch 2:  Loss:     0.2834 Validation Accuracy: 0.663000\n",
      "Epoch 31, CIFAR-10 Batch 3:  Loss:     0.2603 Validation Accuracy: 0.655400\n",
      "Epoch 31, CIFAR-10 Batch 4:  Loss:     0.3248 Validation Accuracy: 0.670200\n",
      "Epoch 31, CIFAR-10 Batch 5:  Loss:     0.2909 Validation Accuracy: 0.664200\n",
      "Epoch 32, CIFAR-10 Batch 1:  Loss:     0.3997 Validation Accuracy: 0.666000\n",
      "Epoch 32, CIFAR-10 Batch 2:  Loss:     0.2712 Validation Accuracy: 0.665000\n",
      "Epoch 32, CIFAR-10 Batch 3:  Loss:     0.2548 Validation Accuracy: 0.653000\n",
      "Epoch 32, CIFAR-10 Batch 4:  Loss:     0.3074 Validation Accuracy: 0.671600\n",
      "Epoch 32, CIFAR-10 Batch 5:  Loss:     0.2832 Validation Accuracy: 0.665800\n",
      "Epoch 33, CIFAR-10 Batch 1:  Loss:     0.3913 Validation Accuracy: 0.667200\n",
      "Epoch 33, CIFAR-10 Batch 2:  Loss:     0.2614 Validation Accuracy: 0.664400\n",
      "Epoch 33, CIFAR-10 Batch 3:  Loss:     0.2447 Validation Accuracy: 0.655800\n",
      "Epoch 33, CIFAR-10 Batch 4:  Loss:     0.2979 Validation Accuracy: 0.672800\n",
      "Epoch 33, CIFAR-10 Batch 5:  Loss:     0.2768 Validation Accuracy: 0.668800\n",
      "Epoch 34, CIFAR-10 Batch 1:  Loss:     0.3890 Validation Accuracy: 0.664200\n",
      "Epoch 34, CIFAR-10 Batch 2:  Loss:     0.2516 Validation Accuracy: 0.667200\n",
      "Epoch 34, CIFAR-10 Batch 3:  Loss:     0.2414 Validation Accuracy: 0.651600\n",
      "Epoch 34, CIFAR-10 Batch 4:  Loss:     0.2825 Validation Accuracy: 0.674800\n",
      "Epoch 34, CIFAR-10 Batch 5:  Loss:     0.2707 Validation Accuracy: 0.668000\n",
      "Epoch 35, CIFAR-10 Batch 1:  Loss:     0.3810 Validation Accuracy: 0.661200\n",
      "Epoch 35, CIFAR-10 Batch 2:  Loss:     0.2392 Validation Accuracy: 0.664800\n",
      "Epoch 35, CIFAR-10 Batch 3:  Loss:     0.2309 Validation Accuracy: 0.655000\n",
      "Epoch 35, CIFAR-10 Batch 4:  Loss:     0.2722 Validation Accuracy: 0.675800\n",
      "Epoch 35, CIFAR-10 Batch 5:  Loss:     0.2652 Validation Accuracy: 0.671000\n",
      "Epoch 36, CIFAR-10 Batch 1:  Loss:     0.3753 Validation Accuracy: 0.659200\n",
      "Epoch 36, CIFAR-10 Batch 2:  Loss:     0.2271 Validation Accuracy: 0.665800\n",
      "Epoch 36, CIFAR-10 Batch 3:  Loss:     0.2268 Validation Accuracy: 0.656200\n",
      "Epoch 36, CIFAR-10 Batch 4:  Loss:     0.2646 Validation Accuracy: 0.674600\n",
      "Epoch 36, CIFAR-10 Batch 5:  Loss:     0.2588 Validation Accuracy: 0.672800\n",
      "Epoch 37, CIFAR-10 Batch 1:  Loss:     0.3646 Validation Accuracy: 0.658800\n",
      "Epoch 37, CIFAR-10 Batch 2:  Loss:     0.2158 Validation Accuracy: 0.666200\n",
      "Epoch 37, CIFAR-10 Batch 3:  Loss:     0.2196 Validation Accuracy: 0.655200\n",
      "Epoch 37, CIFAR-10 Batch 4:  Loss:     0.2556 Validation Accuracy: 0.678200\n",
      "Epoch 37, CIFAR-10 Batch 5:  Loss:     0.2530 Validation Accuracy: 0.675000\n",
      "Epoch 38, CIFAR-10 Batch 1:  Loss:     0.3562 Validation Accuracy: 0.656800\n",
      "Epoch 38, CIFAR-10 Batch 2:  Loss:     0.2065 Validation Accuracy: 0.667800\n",
      "Epoch 38, CIFAR-10 Batch 3:  Loss:     0.2139 Validation Accuracy: 0.659200\n",
      "Epoch 38, CIFAR-10 Batch 4:  Loss:     0.2521 Validation Accuracy: 0.678200\n",
      "Epoch 38, CIFAR-10 Batch 5:  Loss:     0.2454 Validation Accuracy: 0.676600\n",
      "Epoch 39, CIFAR-10 Batch 1:  Loss:     0.3476 Validation Accuracy: 0.653800\n",
      "Epoch 39, CIFAR-10 Batch 2:  Loss:     0.1970 Validation Accuracy: 0.669000\n",
      "Epoch 39, CIFAR-10 Batch 3:  Loss:     0.2097 Validation Accuracy: 0.660800\n",
      "Epoch 39, CIFAR-10 Batch 4:  Loss:     0.2384 Validation Accuracy: 0.678400\n",
      "Epoch 39, CIFAR-10 Batch 5:  Loss:     0.2385 Validation Accuracy: 0.675200\n",
      "Epoch 40, CIFAR-10 Batch 1:  Loss:     0.3411 Validation Accuracy: 0.653000\n",
      "Epoch 40, CIFAR-10 Batch 2:  Loss:     0.1926 Validation Accuracy: 0.669800\n",
      "Epoch 40, CIFAR-10 Batch 3:  Loss:     0.2055 Validation Accuracy: 0.659200\n",
      "Epoch 40, CIFAR-10 Batch 4:  Loss:     0.2297 Validation Accuracy: 0.677000\n",
      "Epoch 40, CIFAR-10 Batch 5:  Loss:     0.2307 Validation Accuracy: 0.676600\n",
      "Epoch 41, CIFAR-10 Batch 1:  Loss:     0.3224 Validation Accuracy: 0.648600\n",
      "Epoch 41, CIFAR-10 Batch 2:  Loss:     0.1822 Validation Accuracy: 0.670400\n",
      "Epoch 41, CIFAR-10 Batch 3:  Loss:     0.2022 Validation Accuracy: 0.657800\n",
      "Epoch 41, CIFAR-10 Batch 4:  Loss:     0.2248 Validation Accuracy: 0.677000\n",
      "Epoch 41, CIFAR-10 Batch 5:  Loss:     0.2235 Validation Accuracy: 0.678600\n",
      "Epoch 42, CIFAR-10 Batch 1:  Loss:     0.3161 Validation Accuracy: 0.649600\n",
      "Epoch 42, CIFAR-10 Batch 2:  Loss:     0.1734 Validation Accuracy: 0.672000\n",
      "Epoch 42, CIFAR-10 Batch 3:  Loss:     0.1989 Validation Accuracy: 0.658000\n",
      "Epoch 42, CIFAR-10 Batch 4:  Loss:     0.2195 Validation Accuracy: 0.679200\n",
      "Epoch 42, CIFAR-10 Batch 5:  Loss:     0.2167 Validation Accuracy: 0.676400\n",
      "Epoch 43, CIFAR-10 Batch 1:  Loss:     0.3152 Validation Accuracy: 0.651200\n",
      "Epoch 43, CIFAR-10 Batch 2:  Loss:     0.1689 Validation Accuracy: 0.670000\n",
      "Epoch 43, CIFAR-10 Batch 3:  Loss:     0.1945 Validation Accuracy: 0.661800\n",
      "Epoch 43, CIFAR-10 Batch 4:  Loss:     0.2176 Validation Accuracy: 0.675600\n",
      "Epoch 43, CIFAR-10 Batch 5:  Loss:     0.2138 Validation Accuracy: 0.678400\n",
      "Epoch 44, CIFAR-10 Batch 1:  Loss:     0.3015 Validation Accuracy: 0.658400\n",
      "Epoch 44, CIFAR-10 Batch 2:  Loss:     0.1649 Validation Accuracy: 0.668600\n",
      "Epoch 44, CIFAR-10 Batch 3:  Loss:     0.1917 Validation Accuracy: 0.661400\n",
      "Epoch 44, CIFAR-10 Batch 4:  Loss:     0.2117 Validation Accuracy: 0.676800\n",
      "Epoch 44, CIFAR-10 Batch 5:  Loss:     0.2094 Validation Accuracy: 0.677600\n",
      "Epoch 45, CIFAR-10 Batch 1:  Loss:     0.2926 Validation Accuracy: 0.669200\n",
      "Epoch 45, CIFAR-10 Batch 2:  Loss:     0.1601 Validation Accuracy: 0.671200\n",
      "Epoch 45, CIFAR-10 Batch 3:  Loss:     0.1851 Validation Accuracy: 0.664000\n",
      "Epoch 45, CIFAR-10 Batch 4:  Loss:     0.2030 Validation Accuracy: 0.675200\n",
      "Epoch 45, CIFAR-10 Batch 5:  Loss:     0.2089 Validation Accuracy: 0.673800\n",
      "Epoch 46, CIFAR-10 Batch 1:  Loss:     0.2741 Validation Accuracy: 0.675600\n",
      "Epoch 46, CIFAR-10 Batch 2:  Loss:     0.1561 Validation Accuracy: 0.670600\n",
      "Epoch 46, CIFAR-10 Batch 3:  Loss:     0.1836 Validation Accuracy: 0.663800\n",
      "Epoch 46, CIFAR-10 Batch 4:  Loss:     0.1970 Validation Accuracy: 0.673600\n",
      "Epoch 46, CIFAR-10 Batch 5:  Loss:     0.2053 Validation Accuracy: 0.673000\n",
      "Epoch 47, CIFAR-10 Batch 1:  Loss:     0.2658 Validation Accuracy: 0.676200\n",
      "Epoch 47, CIFAR-10 Batch 2:  Loss:     0.1530 Validation Accuracy: 0.671200\n",
      "Epoch 47, CIFAR-10 Batch 3:  Loss:     0.1763 Validation Accuracy: 0.668600\n",
      "Epoch 47, CIFAR-10 Batch 4:  Loss:     0.1859 Validation Accuracy: 0.677800\n",
      "Epoch 47, CIFAR-10 Batch 5:  Loss:     0.1966 Validation Accuracy: 0.680600\n",
      "Epoch 48, CIFAR-10 Batch 1:  Loss:     0.2532 Validation Accuracy: 0.678800\n",
      "Epoch 48, CIFAR-10 Batch 2:  Loss:     0.1485 Validation Accuracy: 0.671800\n",
      "Epoch 48, CIFAR-10 Batch 3:  Loss:     0.1752 Validation Accuracy: 0.667400\n",
      "Epoch 48, CIFAR-10 Batch 4:  Loss:     0.1829 Validation Accuracy: 0.674400\n",
      "Epoch 48, CIFAR-10 Batch 5:  Loss:     0.1889 Validation Accuracy: 0.680800\n",
      "Epoch 49, CIFAR-10 Batch 1:  Loss:     0.2440 Validation Accuracy: 0.679600\n",
      "Epoch 49, CIFAR-10 Batch 2:  Loss:     0.1410 Validation Accuracy: 0.675000\n",
      "Epoch 49, CIFAR-10 Batch 3:  Loss:     0.1686 Validation Accuracy: 0.667800\n",
      "Epoch 49, CIFAR-10 Batch 4:  Loss:     0.1772 Validation Accuracy: 0.672400\n",
      "Epoch 49, CIFAR-10 Batch 5:  Loss:     0.1855 Validation Accuracy: 0.683000\n",
      "Epoch 50, CIFAR-10 Batch 1:  Loss:     0.2389 Validation Accuracy: 0.679400\n",
      "Epoch 50, CIFAR-10 Batch 2:  Loss:     0.1370 Validation Accuracy: 0.673800\n",
      "Epoch 50, CIFAR-10 Batch 3:  Loss:     0.1644 Validation Accuracy: 0.668600\n",
      "Epoch 50, CIFAR-10 Batch 4:  Loss:     0.1741 Validation Accuracy: 0.672600\n",
      "Epoch 50, CIFAR-10 Batch 5:  Loss:     0.1808 Validation Accuracy: 0.681800\n"
     ]
    }
   ],
   "source": [
    "\"\"\"\n",
    "DON'T MODIFY ANYTHING IN THIS CELL\n",
    "\"\"\"\n",
    "save_model_path = './image_classification'\n",
    "\n",
    "print('Training...')\n",
    "with tf.Session() as sess:\n",
    "    # Initializing the variables\n",
    "    sess.run(tf.global_variables_initializer())\n",
    "    \n",
    "    # Training cycle\n",
    "    for epoch in range(epochs):\n",
    "        # Loop over all batches\n",
    "        n_batches = 5\n",
    "        for batch_i in range(1, n_batches + 1):\n",
    "            for batch_features, batch_labels in helper.load_preprocess_training_batch(batch_i, batch_size):\n",
    "                train_neural_network(sess, optimizer, keep_probability, batch_features, batch_labels)\n",
    "            print('Epoch {:>2}, CIFAR-10 Batch {}:  '.format(epoch + 1, batch_i), end='')\n",
    "            print_stats(sess, batch_features, batch_labels, cost, accuracy)\n",
    "            \n",
    "    # Save Model\n",
    "    saver = tf.train.Saver()\n",
    "    save_path = saver.save(sess, save_model_path)"
   ]
  },
  {
   "cell_type": "markdown",
   "metadata": {
    "deletable": true,
    "editable": true
   },
   "source": [
    "# Checkpoint\n",
    "The model has been saved to disk.\n",
    "## Test Model\n",
    "Test your model against the test dataset.  This will be your final accuracy. You should have an accuracy greater than 50%. If you don't, keep tweaking the model architecture and parameters."
   ]
  },
  {
   "cell_type": "code",
   "execution_count": 42,
   "metadata": {
    "collapsed": false,
    "deletable": true,
    "editable": true
   },
   "outputs": [
    {
     "name": "stdout",
     "output_type": "stream",
     "text": [
      "Testing Accuracy: 0.67119140625\n",
      "\n"
     ]
    },
    {
     "data": {
      "image/png": "[encoded data removed]",
      "text/plain": [
       "<matplotlib.figure.Figure at 0x7fdf3d19f208>"
      ]
     },
     "metadata": {
      "image/png": {
       "height": 319,
       "width": 355
      }
     },
     "output_type": "display_data"
    }
   ],
   "source": [
    "\"\"\"\n",
    "DON'T MODIFY ANYTHING IN THIS CELL\n",
    "\"\"\"\n",
    "%matplotlib inline\n",
    "%config InlineBackend.figure_format = 'retina'\n",
    "\n",
    "import tensorflow as tf\n",
    "import pickle\n",
    "import helper\n",
    "import random\n",
    "\n",
    "# Set batch size if not already set\n",
    "try:\n",
    "    if batch_size:\n",
    "        pass\n",
    "except NameError:\n",
    "    batch_size = 64\n",
    "\n",
    "save_model_path = './image_classification'\n",
    "n_samples = 4\n",
    "top_n_predictions = 3\n",
    "\n",
    "def test_model():\n",
    "    \"\"\"\n",
    "    Test the saved model against the test dataset\n",
    "    \"\"\"\n",
    "\n",
    "    test_features, test_labels = pickle.load(open('preprocess_test.p', mode='rb'))\n",
    "    loaded_graph = tf.Graph()\n",
    "\n",
    "    with tf.Session(graph=loaded_graph) as sess:\n",
    "        # Load model\n",
    "        loader = tf.train.import_meta_graph(save_model_path + '.meta')\n",
    "        loader.restore(sess, save_model_path)\n",
    "\n",
    "        # Get Tensors from loaded model\n",
    "        loaded_x = loaded_graph.get_tensor_by_name('x:0')\n",
    "        loaded_y = loaded_graph.get_tensor_by_name('y:0')\n",
    "        loaded_keep_prob = loaded_graph.get_tensor_by_name('keep_prob:0')\n",
    "        loaded_logits = loaded_graph.get_tensor_by_name('logits:0')\n",
    "        loaded_acc = loaded_graph.get_tensor_by_name('accuracy:0')\n",
    "        \n",
    "        # Get accuracy in batches for memory limitations\n",
    "        test_batch_acc_total = 0\n",
    "        test_batch_count = 0\n",
    "        \n",
    "        for test_feature_batch, test_label_batch in helper.batch_features_labels(test_features, test_labels, batch_size):\n",
    "            test_batch_acc_total += sess.run(\n",
    "                loaded_acc,\n",
    "                feed_dict={loaded_x: test_feature_batch, loaded_y: test_label_batch, loaded_keep_prob: 1.0})\n",
    "            test_batch_count += 1\n",
    "\n",
    "        print('Testing Accuracy: {}\\n'.format(test_batch_acc_total/test_batch_count))\n",
    "\n",
    "        # Print Random Samples\n",
    "        random_test_features, random_test_labels = tuple(zip(*random.sample(list(zip(test_features, test_labels)), n_samples)))\n",
    "        random_test_predictions = sess.run(\n",
    "            tf.nn.top_k(tf.nn.softmax(loaded_logits), top_n_predictions),\n",
    "            feed_dict={loaded_x: random_test_features, loaded_y: random_test_labels, loaded_keep_prob: 1.0})\n",
    "        helper.display_image_predictions(random_test_features, random_test_labels, random_test_predictions)\n",
    "\n",
    "\n",
    "test_model()"
   ]
  },
  {
   "cell_type": "markdown",
   "metadata": {
    "deletable": true,
    "editable": true
   },
   "source": [
    "## Why 50-80% Accuracy?\n",
    "You might be wondering why you can't get an accuracy any higher. First things first, 50% isn't bad for a simple CNN.  Pure guessing would get you 10% accuracy. However, you might notice people are getting scores [well above 80%](http://rodrigob.github.io/are_we_there_yet/build/classification_datasets_results.html#43494641522d3130).  That's because we haven't taught you all there is to know about neural networks. We still need to cover a few more techniques.\n",
    "## Submitting This Project\n",
    "When submitting this project, make sure to run all the cells before saving the notebook.  Save the notebook file as \"dlnd_image_classification.ipynb\" and save it as a HTML file under \"File\" -> \"Download as\".  Include the \"helper.py\" and \"problem_unittests.py\" files in your submission."
   ]
  }
 ],
 "metadata": {
  "kernelspec": {
   "display_name": "Python 3",
   "language": "python",
   "name": "python3"
  },
  "language_info": {
   "codemirror_mode": {
    "name": "ipython",
    "version": 3
   },
   "file_extension": ".py",
   "mimetype": "text/x-python",
   "name": "python",
   "nbconvert_exporter": "python",
   "pygments_lexer": "ipython3",
   "version": "3.5.2"
  },
  "widgets": {
   "state": {},
   "version": "1.1.2"
  }
 },
 "nbformat": 4,
 "nbformat_minor": 0
}
